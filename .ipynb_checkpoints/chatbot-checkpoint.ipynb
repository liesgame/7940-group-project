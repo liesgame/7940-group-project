{
 "cells": [
  {
   "cell_type": "code",
   "execution_count": 1,
   "id": "7c6b98a7",
   "metadata": {},
   "outputs": [],
   "source": [
    "import telegram\n",
    "from telegram.ext import Updater,MessageHandler,Filters\n",
    "import configparser\n",
    "import logging"
   ]
  },
  {
   "cell_type": "code",
   "execution_count": 2,
   "id": "58f0e2ba",
   "metadata": {},
   "outputs": [
    {
     "data": {
      "text/plain": [
       "['config.ini']"
      ]
     },
     "execution_count": 2,
     "metadata": {},
     "output_type": "execute_result"
    }
   ],
   "source": [
    "config = configparser.ConfigParser()\n",
    "config.read('config.ini')"
   ]
  },
  {
   "cell_type": "code",
   "execution_count": 5,
   "id": "b23249a3",
   "metadata": {},
   "outputs": [],
   "source": [
    "def main():\n",
    "    #Load your token and create an Updater for your Bot\n",
    "    config=configparser.ConfigParser()\n",
    "    config.read('config.ini')\n",
    "    updater=Updater(token=(config['TELEGRAM']['ACCESS_TOKEN']),use_context= True)\n",
    "    dispatcher=updater.dispatcher\n",
    "    #You can set this logging module,so you will know when and why things do not work as expected\n",
    "    logging.basicConfig(format='%(asctime)s-%(name)s-%(levelname)s-%(message)s',level=logging.INFO)\n",
    "    #register a dispatcher to handle message: here we register an echo dispatcher   \n",
    "    echo_handler=MessageHandler(Filters.text&(~Filters.command),echo)\n",
    "    dispatcher.add_handler(echo_handler)\n",
    "    \n",
    "    # TO start the bot\n",
    "    updater.start_polling()\n",
    "    updater.idle()"
   ]
  },
  {
   "cell_type": "code",
   "execution_count": 6,
   "id": "aa8709a7",
   "metadata": {},
   "outputs": [],
   "source": [
    "def echo(update, context):\n",
    "    reply_message = update.message.text.upper()\n",
    "    logging.info(\"Update: \"+str(update))\n",
    "    logging.info(\"Context: \"+str(context))\n",
    "    context.bot.send_message(chat_id = update.effective_chat.id, text = reply_message)"
   ]
  },
  {
   "cell_type": "code",
   "execution_count": null,
   "id": "611d0a32",
   "metadata": {},
   "outputs": [],
   "source": []
  }
 ],
 "metadata": {
  "kernelspec": {
   "display_name": "Python 3 (ipykernel)",
   "language": "python",
   "name": "python3"
  },
  "language_info": {
   "codemirror_mode": {
    "name": "ipython",
    "version": 3
   },
   "file_extension": ".py",
   "mimetype": "text/x-python",
   "name": "python",
   "nbconvert_exporter": "python",
   "pygments_lexer": "ipython3",
   "version": "3.7.12"
  }
 },
 "nbformat": 4,
 "nbformat_minor": 5
}
